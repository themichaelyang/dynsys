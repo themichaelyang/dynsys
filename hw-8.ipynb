{
 "cells": [
  {
   "cell_type": "code",
   "execution_count": 21,
   "metadata": {},
   "outputs": [
    {
     "name": "stdout",
     "output_type": "stream",
     "text": [
      "[[  3   3   3   4   6   8 100   3   3   5]\n",
      " [  5   3   3   6   4   8  16   4   5   4]\n",
      " [  4   3   3   5  13 100 100  68   4   4]\n",
      " [  4   5   6  13 100 100 100 100   7   2]\n",
      " [  5   6  12 100 100 100 100 100   3   2]\n",
      " [  5   6  12 100 100 100 100 100   3   2]\n",
      " [  4   5   6  13 100 100 100 100   7   2]\n",
      " [  4   3   3   5  13 100 100  68   4   4]\n",
      " [  5   3   3   6   4   8  16   4   5   4]\n",
      " [  3   3   3   4   6   8 100   3   3   5]]\n"
     ]
    }
   ],
   "source": [
    "import numpy as np\n",
    "\n",
    "def mandelbrot():\n",
    "#     shape = (200, 300)\n",
    "#     z0 = np.zeros(shape)\n",
    "    max_iterations = 100\n",
    "    z_num = 100\n",
    "\n",
    "    zi = np.zeros(z_num, dtype=complex)\n",
    "    iterations = np.zeros(z_num, dtype=int)\n",
    "    \n",
    "    mandelbrot_map = lambda c: lambda z: z**2 + c\n",
    "    \n",
    "    p_num = 10\n",
    "    q_num = z_num // p_num\n",
    "    \n",
    "    # p is y axis\n",
    "    # q is x axis\n",
    "    c = [p + q * 1j for q in np.linspace(-1, 1, q_num)\n",
    "                    for p in np.linspace(-2, 1, p_num)]\n",
    "    \n",
    "    for i in range(max_iterations):\n",
    "        zi[zi < 2] = (zi ** 2 + c)[zi < 2]\n",
    "        iterations[zi < 2] = i+1\n",
    "    \n",
    "    image = iterations.reshape(p_num, q_num)\n",
    "    \n",
    "    np.\n",
    "    \n",
    "    \n",
    "mandelbrot()\n",
    "    "
   ]
  },
  {
   "cell_type": "code",
   "execution_count": null,
   "metadata": {},
   "outputs": [],
   "source": []
  }
 ],
 "metadata": {
  "kernelspec": {
   "display_name": "Python 3",
   "language": "python",
   "name": "python3"
  },
  "language_info": {
   "codemirror_mode": {
    "name": "ipython",
    "version": 3
   },
   "file_extension": ".py",
   "mimetype": "text/x-python",
   "name": "python",
   "nbconvert_exporter": "python",
   "pygments_lexer": "ipython3",
   "version": "3.7.0"
  }
 },
 "nbformat": 4,
 "nbformat_minor": 2
}
