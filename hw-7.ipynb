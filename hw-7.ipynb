{
 "cells": [
  {
   "cell_type": "code",
   "execution_count": 9,
   "metadata": {},
   "outputs": [],
   "source": [
    "%config InlineBackend.figure_format = 'retina'\n",
    "%matplotlib inline\n",
    "\n",
    "import numpy as np\n",
    "import matplotlib.pyplot as plt\n",
    "\n",
    "def iterate_map(f, x_0, n):\n",
    "    # extended for multi-dim case\n",
    "    # trajectory = [x_0] * (n+1)\n",
    "    trajectory = np.stack([x_0] * (n+1), axis=0)\n",
    "    trajectory[0] = x_0\n",
    "    for i in range(1, n + 1):\n",
    "        trajectory[i] = f(*trajectory[i-1])\n",
    "    \n",
    "    return trajectory\n",
    "\n",
    "henon = lambda a, b: lambda x, y: np.asarray((a - (x**2) + b * y, x))\n",
    "henon_inv = lambda a, b: lambda x, y: np.asarray((y, (x + y**2 - a) / b))"
   ]
  },
  {
   "cell_type": "code",
   "execution_count": 10,
   "metadata": {},
   "outputs": [],
   "source": [
    "# def problem_1():\n",
    "#     trapezoid = \n",
    "def make_polygon(corners, total_pts):\n",
    "    pts_per_side = total_pts // len(corners)\n",
    "    points = np.array([]).reshape(0, 2)\n",
    "    \n",
    "    for i in range(len(corners)):\n",
    "        (x_start, y_start) = corners[i]\n",
    "        (x_end, y_end) = corners[(i+1) % len(corners)]\n",
    "        \n",
    "        side_points = np.array([np.linspace(x_start, x_end, pts_per_side), \n",
    "         np.linspace(y_start, y_end, pts_per_side)]).T\n",
    "        \n",
    "#         np.linspace(x_start, x_end, pts_per_side)\n",
    "#         np.interp(,  [x_start, x_end], [y_start, y_end])\n",
    "        points = np.concatenate((points, side_points), axis=0)\n",
    "    \n",
    "    return points"
   ]
  },
  {
   "cell_type": "code",
   "execution_count": null,
   "metadata": {},
   "outputs": [],
   "source": [
    "def recur(fn, x_in, y_in, remaining):\n",
    "    (x_out, y_out) = fn(x_in, y_in)\n",
    "    return x if remaining == 0 else recur(fn, x_out, y_out, remaining - 1)\n",
    "\n",
    "def problem_1():\n",
    "    a = 4\n",
    "    b = 0.2\n",
    "    \n",
    "    fig1, ax1 = plt.subplots(figsize=(8, 8))\n",
    "    fig2, ax2 = plt.subplots(figsize=(8, 8))\n",
    "    \n",
    "    ax1.set_aspect('equal')\n",
    "    ax1.set_ylim(-6, 6)\n",
    "    ax1.set_xlim(-6, 6)\n",
    "    \n",
    "    ax2.set_aspect('equal')\n",
    "    ax2.set_ylim(-6, 6)\n",
    "    ax2.set_xlim(-6, 6)\n",
    "    \n",
    "    trapezoid = make_polygon([[-3, -3], [3, -1.5], [3, 1.5], [-3, 3]], 10**3)\n",
    "    trapezoid_x = trapezoid[:,0].flatten()\n",
    "    trapezoid_y = trapezoid[:,1].flatten()\n",
    "    dist = trapezoid_x + trapezoid_y\n",
    "    \n",
    "    # Plot trapezoid, f1 and f1_inv\n",
    "    ax1.scatter(trapezoid_x, trapezoid_y, c=dist, s=0.1, cmap=plt.get_cmap('cool'))\n",
    "    \n",
    "    trapezoid_f1 = henon(a, b)(trapezoid_x, trapezoid_y)\n",
    "    ax1.scatter(trapezoid_f1[0], trapezoid_f1[1], c=dist, s=0.1, cmap=plt.get_cmap('cool'))\n",
    "    \n",
    "    trapezoid_f1_inv = henon_inv(a, b)(trapezoid_x, trapezoid_y)\n",
    "    ax1.scatter(trapezoid_f1_inv[0], trapezoid_f1_inv[1], c=dist, s=0.1, cmap=plt.get_cmap('cool'))\n",
    "    \n",
    "    # Plot trapezoid, f4 and f4_inv\n",
    "    ax2.scatter(trapezoid_x, trapezoid_y, c=dist, s=0.1, cmap=plt.get_cmap('cool'))\n",
    "    \n",
    "    henon4 = lambda a, b: lambda x, y: recur(henon(a, b), x, y, 4)\n",
    "    henon4_inv = lambda a, b: lambda x, y: recur(henon_inv(a, b), x, y, 4)\n",
    "    \n",
    "    trapezoid_f4 = henon4(a, b)(trapezoid_x, trapezoid_y)\n",
    "    trapezoid_f4_inv = henon4_inv(a, b)(trapezoid_x, trapezoid_y)\n",
    "    \n",
    "    ax2.scatter(trapezoid_f4[0], trapezoid_f4[1], c=dist, s=0.1, cmap=plt.get_cmap('cool'))\n",
    "    ax2.scatter(trapezoid_f4_inv[0], trapezoid_f4_inv[1], c=dist, s=0.1, cmap=plt.get_cmap('cool'))"
   ]
  },
  {
   "cell_type": "code",
   "execution_count": null,
   "metadata": {},
   "outputs": [],
   "source": [
    "problem_1()"
   ]
  },
  {
   "cell_type": "code",
   "execution_count": null,
   "metadata": {},
   "outputs": [],
   "source": []
  }
 ],
 "metadata": {
  "kernelspec": {
   "display_name": "Python 3",
   "language": "python",
   "name": "python3"
  },
  "language_info": {
   "codemirror_mode": {
    "name": "ipython",
    "version": 3
   },
   "file_extension": ".py",
   "mimetype": "text/x-python",
   "name": "python",
   "nbconvert_exporter": "python",
   "pygments_lexer": "ipython3",
   "version": "3.7.0"
  }
 },
 "nbformat": 4,
 "nbformat_minor": 2
}
