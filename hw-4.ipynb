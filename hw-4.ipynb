{
 "cells": [
  {
   "cell_type": "code",
   "execution_count": 11,
   "metadata": {},
   "outputs": [
    {
     "name": "stdout",
     "output_type": "stream",
     "text": [
      "[Fraction(105, 512), Fraction(53, 256)]\n",
      "0.205078125 0.20703125\n"
     ]
    }
   ],
   "source": [
    "# Heads up, future Mike! Turns out this is incorrect for constructing\n",
    "# the itinerary bounds. Take a look at pg 28 in the textbook. \n",
    "\n",
    "# Tent map does have the nice property of halving every time though.\n",
    "from fractions import Fraction \n",
    "\n",
    "itinerary = 'LLRRLRLLR'\n",
    "bounds = [Fraction(0, 1), Fraction(1, 1)]\n",
    "\n",
    "for s in itinerary:\n",
    "    half = (bounds[0] + bounds[1]) / 2\n",
    "    if s == 'L':\n",
    "        bounds[1] = half\n",
    "    else:\n",
    "        bounds[0] = half\n",
    "\n",
    "print(bounds)\n",
    "print(float(bounds[0]), float(bounds[1]))"
   ]
  },
  {
   "cell_type": "code",
   "execution_count": 9,
   "metadata": {},
   "outputs": [
    {
     "name": "stdout",
     "output_type": "stream",
     "text": [
      "[0.13333333333333336, 0.13333333333333336]\n"
     ]
    }
   ],
   "source": [
    "itinerary = 'LLRL'\n",
    "bounds = [0, 1]\n",
    "\n",
    "for s in itinerary * 1000:\n",
    "    half = (bounds[0] + bounds[1]) / 2\n",
    "    if s == 'L':\n",
    "        bounds[1] = half\n",
    "    else:\n",
    "        bounds[0] = half\n",
    "\n",
    "print(bounds)"
   ]
  },
  {
   "cell_type": "code",
   "execution_count": 14,
   "metadata": {},
   "outputs": [
    {
     "data": {
      "text/plain": [
       "0.043227271178699546"
      ]
     },
     "execution_count": 14,
     "metadata": {},
     "output_type": "execute_result"
    }
   ],
   "source": [
    "import math \n",
    "\n",
    "print(math.sin(math.pi/15) ** 2)"
   ]
  },
  {
   "cell_type": "code",
   "execution_count": 24,
   "metadata": {},
   "outputs": [],
   "source": [
    "tent_map = lambda x: 2*x if x <= 0.5 else 2-(2*x)"
   ]
  },
  {
   "cell_type": "code",
   "execution_count": 25,
   "metadata": {},
   "outputs": [
    {
     "data": {
      "text/plain": [
       "[Fraction(2, 15),\n",
       " Fraction(4, 15),\n",
       " Fraction(8, 15),\n",
       " Fraction(14, 15),\n",
       " Fraction(2, 15)]"
      ]
     },
     "execution_count": 25,
     "metadata": {},
     "output_type": "execute_result"
    }
   ],
   "source": [
    "def iterate_map(f, x_0, n):\n",
    "    # careful with n = 1; will iterate 0 times\n",
    "    # maybe it should be range(1, n + 1)?\n",
    "    trajectory = [0] * n\n",
    "    trajectory[0] = x_0\n",
    "    for i in range(1, n):\n",
    "        trajectory[i] = f(trajectory[i-1])\n",
    "    \n",
    "    return trajectory\n",
    "\n",
    "\n",
    "iterate_map(tent_map, Fraction(2, 15), 5)"
   ]
  },
  {
   "cell_type": "code",
   "execution_count": null,
   "metadata": {},
   "outputs": [],
   "source": []
  }
 ],
 "metadata": {
  "kernelspec": {
   "display_name": "Python 3",
   "language": "python",
   "name": "python3"
  },
  "language_info": {
   "codemirror_mode": {
    "name": "ipython",
    "version": 3
   },
   "file_extension": ".py",
   "mimetype": "text/x-python",
   "name": "python",
   "nbconvert_exporter": "python",
   "pygments_lexer": "ipython3",
   "version": "3.7.0"
  }
 },
 "nbformat": 4,
 "nbformat_minor": 2
}
